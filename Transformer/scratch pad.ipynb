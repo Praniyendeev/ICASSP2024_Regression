{
 "cells": [
  {
   "cell_type": "code",
   "execution_count": 1,
   "metadata": {},
   "outputs": [
    {
     "name": "stdout",
     "output_type": "stream",
     "text": [
      "Train Batch Size:768, number of batches:1265 with 3 workers\n"
     ]
    }
   ],
   "source": [
    "import torch\n",
    "import torch.nn as nn\n",
    "import torch.nn.functional as F\n",
    "import torch.optim as optim\n",
    "\n",
    "from torch.nn import Transformer\n",
    "from torch import Tensor\n",
    "from torch.utils.data import DataLoader\n",
    "\n",
    "import os\n",
    "import sys\n",
    "\n",
    "# parent_dir = os.path.dirname(os.path.dirname(os.path.realpath(__file__)))\n",
    "sys.path.append(\"/mnt/nvme/node02/pranav/AE24/starDuck\")\n",
    "\n",
    "import model\n",
    "from utils import *\n",
    "from config import *\n",
    "\n",
    "import math\n",
    "import time\n",
    "import numpy as np\n",
    "\n",
    "device = torch.device('cuda' if torch.cuda.is_available() else 'cpu')\n",
    "\n",
    "\n",
    "train_dataloader = DataLoader(train_dataset, batch_size=batch_size, shuffle=True,num_workers=num_workers)#no \n",
    "\n",
    "print(f\"Train Batch Size:{batch_size}, number of batches:{len(train_dataloader)} with {num_workers} workers\")\n",
    "\n",
    "# Model\n",
    "model =model.model1\n",
    "model =model.to(device)\n",
    "\n",
    "optimizer = torch.optim.Adam(model.parameters(), lr=0.001)\n",
    "num_epochs = 50\n",
    "\n",
    "# checkpoint_path = \"model1.pth\"\n",
    "ckpts_path = \"/mnt/nvme/node02/pranav/AE24/starDuck/Transformer/model_ckpts/\"\n",
    "\n",
    "# Attempt to load the checkpoint if it exists\n",
    "loaded_epoch = load_checkpoint(\"/mnt/nvme/node02/pranav/AE24/starDuck/Transformer/\" + modelName +\".pth\" , model, optimizer,device)\n",
    "loaded_epoch = load_checkpoint(\"/mnt/nvme/node02/pranav/AE24/starDuck/Transformer/model_ckpts/model1_41_-_50_.pth\" , model, optimizer,device)\n"
   ]
  },
  {
   "cell_type": "code",
   "execution_count": 2,
   "metadata": {},
   "outputs": [
    {
     "data": {
      "text/plain": [
       "0"
      ]
     },
     "execution_count": 2,
     "metadata": {},
     "output_type": "execute_result"
    }
   ],
   "source": [
    "loaded_epoch"
   ]
  },
  {
   "cell_type": "code",
   "execution_count": null,
   "metadata": {},
   "outputs": [],
   "source": []
  }
 ],
 "metadata": {
  "kernelspec": {
   "display_name": "ae24",
   "language": "python",
   "name": "python3"
  },
  "language_info": {
   "codemirror_mode": {
    "name": "ipython",
    "version": 3
   },
   "file_extension": ".py",
   "mimetype": "text/x-python",
   "name": "python",
   "nbconvert_exporter": "python",
   "pygments_lexer": "ipython3",
   "version": "3.10.13"
  }
 },
 "nbformat": 4,
 "nbformat_minor": 2
}
