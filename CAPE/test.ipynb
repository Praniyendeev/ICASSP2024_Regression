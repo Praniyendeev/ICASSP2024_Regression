{
 "cells": [
  {
   "cell_type": "code",
   "execution_count": 4,
   "metadata": {},
   "outputs": [
    {
     "name": "stderr",
     "output_type": "stream",
     "text": [
      "/mnt/nvme/node02/pranav/AE24/AudioLDM-training-finetuning/audioldm_train/utilities/audio/stft.py:42: FutureWarning: Pass size=1024 as keyword args. From version 0.10 passing these as positional arguments will result in an error\n",
      "  fft_window = pad_center(fft_window, filter_length)\n",
      "/mnt/nvme/node02/pranav/AE24/AudioLDM-training-finetuning/audioldm_train/utilities/audio/stft.py:145: FutureWarning: Pass sr=16000, n_fft=1024, n_mels=64, fmin=0, fmax=8000 as keyword args. From version 0.10 passing these as positional arguments will result in an error\n",
      "  mel_basis = librosa_mel_fn(\n"
     ]
    }
   ],
   "source": [
    "%matplotlib inline\n",
    "import torch\n",
    "from config import Config_MBM_EEG\n",
    "from mae_for_eeg import *\n",
    "from eeg_dataset import EEGDataset\n",
    "import yaml\n",
    "from torch.utils.data import DataLoader\n",
    "configs= yaml.load(open(\"/mnt/nvme/node02/pranav/AE24/AudioLDM-training-finetuning/audioldm_train/config/2023_08_23_reproduce_audioldm/audioldm_eeg.yaml\", \"r\"), Loader=yaml.FullLoader)\n",
    "dataset = EEGDataset(configs,split=\"train\")\n",
    "loader = DataLoader(dataset, shuffle=False,batch_size =3)"
   ]
  },
  {
   "cell_type": "code",
   "execution_count": 2,
   "metadata": {},
   "outputs": [
    {
     "data": {
      "text/plain": [
       "<All keys matched successfully>"
      ]
     },
     "execution_count": 2,
     "metadata": {},
     "output_type": "execute_result"
    }
   ],
   "source": [
    "ckpt= \"/mnt/nvme/node02/pranav/AE24/DreamDiffusion/dreamdiffusion/results/eeg_pretrain/21-11-2023-05-58-07/checkpoints/checkpoint.pth\"\n",
    "\n",
    "lopi=torch.load(ckpt,map_location='cpu')\n",
    "\n",
    "config =Config_MBM_EEG()\n",
    "model = MAEforEEG(time_len=512, patch_size=config.patch_size, embed_dim=config.embed_dim,\n",
    "                decoder_embed_dim=config.decoder_embed_dim, depth=config.depth, \n",
    "                num_heads=config.num_heads, decoder_num_heads=config.decoder_num_heads, mlp_ratio=config.mlp_ratio,\n",
    "                focus_range=config.focus_range, focus_rate=config.focus_rate, \n",
    "                img_recon_weight=config.img_recon_weight, use_nature_img_loss=config.use_nature_img_loss)  \n",
    "model.load_state_dict(lopi[\"model\"],strict=False)"
   ]
  },
  {
   "cell_type": "code",
   "execution_count": 5,
   "metadata": {},
   "outputs": [],
   "source": [
    "import torch.nn as nn\n",
    "from audioldm_train.modules.clap.open_clip import create_model\n",
    "from audioldm_train.modules.clap.training.data import get_audio_features\n",
    "import torchaudio\n",
    "import torch.optim as optim\n",
    "import torch\n",
    "from config import Config_MBM_EEG\n",
    "from mae_for_eeg import *\n",
    "from eeg_dataset import EEGDataset\n",
    "# from audioldm_train.utilities.data.dataset import AudioDataset\n",
    "\n",
    "import yaml\n",
    "from torch.utils.data import DataLoader\n",
    "\n",
    "\n",
    "\n"
   ]
  },
  {
   "cell_type": "code",
   "execution_count": 6,
   "metadata": {},
   "outputs": [],
   "source": [
    "class EEG2Latent(nn.Module):\n",
    "    def __init__(self):\n",
    "        super(EEG2Latent,self).__init__()\n",
    "\n",
    "\n",
    "        ckpt= \"/mnt/nvme/node02/pranav/AE24/DreamDiffusion/dreamdiffusion/results/eeg_pretrain/21-11-2023-05-58-07/checkpoints/checkpoint.pth\"\n",
    "\n",
    "        state_dict=torch.load(ckpt,map_location='cpu')\n",
    "        config =Config_MBM_EEG()\n",
    "\n",
    "        self.eeg_encoder = eeg_encoder(512,4,512,64,24,16,1)\n",
    "        self.eeg_encoder.load_state_dict(state_dict,strict=False)\n",
    "\n",
    "        for param in self.eeg_encoder.parameters():\n",
    "            param.requires_grad =False\n",
    "        \n",
    "\n",
    "        self.eeg_projection = nn.Sequential(\n",
    "            nn.Flatten(1),\n",
    "            nn.Linear(128*512,512),\n",
    "            nn.ReLU(),\n",
    "            nn.Linear(512,512),\n",
    "        )\n",
    "\n",
    "    def forward(self,x):\n",
    "        x=self.eeg_encoder.forward(x.permute(0,2,1))\n",
    "        x=self.eeg_projection(x)\n",
    "        return x\n",
    "\n",
    "\n",
    "\n",
    "\n"
   ]
  },
  {
   "cell_type": "code",
   "execution_count": 5,
   "metadata": {},
   "outputs": [],
   "source": [
    "from transformers import (\n",
    "    RobertaTokenizer,\n",
    "    AutoTokenizer,\n",
    "    T5EncoderModel,\n",
    "    MT5EncoderModel,\n",
    ")\n",
    "\n",
    "\n",
    "class CLAPAudioEmbedding(nn.Module):\n",
    "    def __init__(\n",
    "        self,\n",
    "        pretrained_path=\"/mnt/nvme/node02/pranav/AE24/AudioLDM-training-finetuning/data/checkpoints/clap_music_speech_audioset_epoch_15_esc_89.98.pt\",\n",
    "        sampling_rate=16000,\n",
    "        embed_mode=\"audio\",\n",
    "        amodel=\"HTSAT-base\",\n",
    "        unconditional_prob=0.1,\n",
    "        random_mute=False,\n",
    "        max_random_mute_portion=0.5,\n",
    "        training_mode=True,\n",
    "    ):\n",
    "        super().__init__()\n",
    "        self.device = \"cpu\"\n",
    "        self.precision = \"fp32\"\n",
    "        self.amodel = amodel  # or 'PANN-14'\n",
    "        self.tmodel = \"roberta\"  # the best text encoder in our training\n",
    "        self.enable_fusion = False  # False if you do not want to use the fusion model\n",
    "        self.fusion_type = \"aff_2d\"\n",
    "        self.pretrained = pretrained_path\n",
    "        self.embed_mode = embed_mode\n",
    "        self.embed_mode_orig = embed_mode\n",
    "        self.sampling_rate = sampling_rate\n",
    "        self.unconditional_prob = unconditional_prob\n",
    "        self.random_mute = random_mute\n",
    "        self.tokenize = RobertaTokenizer.from_pretrained(\"roberta-base\")\n",
    "        self.max_random_mute_portion = max_random_mute_portion\n",
    "        self.training_mode = training_mode\n",
    "        self.model, self.model_cfg = create_model(\n",
    "            self.amodel,\n",
    "            self.tmodel,\n",
    "            self.pretrained,\n",
    "            precision=self.precision,\n",
    "            device=self.device,\n",
    "            enable_fusion=self.enable_fusion,\n",
    "            fusion_type=self.fusion_type,\n",
    "        )\n",
    "        audio_cfg = self.model_cfg[\"audio_cfg\"]\n",
    "        self.mel_transform = torchaudio.transforms.MelSpectrogram(\n",
    "            sample_rate=audio_cfg[\"sample_rate\"],\n",
    "            n_fft=audio_cfg[\"window_size\"],\n",
    "            win_length=audio_cfg[\"window_size\"],\n",
    "            hop_length=audio_cfg[\"hop_size\"],\n",
    "            center=True,\n",
    "            pad_mode=\"reflect\",\n",
    "            power=2.0,\n",
    "            norm=None,\n",
    "            onesided=True,\n",
    "            n_mels=64,\n",
    "            f_min=audio_cfg[\"fmin\"],\n",
    "            f_max=audio_cfg[\"fmax\"],\n",
    "        )\n",
    "        for p in self.model.parameters():\n",
    "            p.requires_grad = False\n",
    "        self.unconditional_token = None\n",
    "        self.model.eval()\n",
    "\n",
    "    def get_unconditional_condition(self, batchsize):\n",
    "        self.unconditional_token = self.model.get_text_embedding(\n",
    "            self.tokenizer([\"\", \"\"])\n",
    "        )[0:1]\n",
    "        return torch.cat([self.unconditional_token.unsqueeze(0)] * batchsize, dim=0)\n",
    "\n",
    "    def batch_to_list(self, batch):\n",
    "        ret = []\n",
    "        for i in range(batch.size(0)):\n",
    "            ret.append(batch[i])\n",
    "        return ret\n",
    "\n",
    "    def make_decision(self, probability):\n",
    "        if float(torch.rand(1)) < probability:\n",
    "            return True\n",
    "        else:\n",
    "            return False\n",
    "\n",
    "    def random_uniform(self, start, end):\n",
    "        val = torch.rand(1).item()\n",
    "        return start + (end - start) * val\n",
    "\n",
    "    def _random_mute(self, waveform):\n",
    "        # waveform: [bs, t-steps]\n",
    "        t_steps = waveform.size(-1)\n",
    "        for i in range(waveform.size(0)):\n",
    "            mute_size = int(\n",
    "                self.random_uniform(0, end=int(t_steps * self.max_random_mute_portion))\n",
    "            )\n",
    "            mute_start = int(self.random_uniform(0, t_steps - mute_size))\n",
    "            waveform[i, mute_start : mute_start + mute_size] = 0\n",
    "        return waveform\n",
    "\n",
    "    def cos_similarity(self, waveform, text):\n",
    "        # waveform: [bs, t_steps]\n",
    "        original_embed_mode = self.embed_mode\n",
    "        with torch.no_grad():\n",
    "            self.embed_mode = \"audio\"\n",
    "            audio_emb = self(waveform.cuda())\n",
    "            self.embed_mode = \"text\"\n",
    "            text_emb = self(text)\n",
    "            similarity = F.cosine_similarity(audio_emb, text_emb, dim=2)\n",
    "        self.embed_mode = original_embed_mode\n",
    "        return similarity.squeeze()\n",
    "\n",
    "    def build_unconditional_emb(self):\n",
    "        self.unconditional_token = self.model.get_text_embedding(\n",
    "            self.tokenizer([\"\", \"\"])\n",
    "        )[0:1]\n",
    "    def tokenizer(self, text):\n",
    "        result = self.tokenize(\n",
    "            text,\n",
    "            padding=\"max_length\",\n",
    "            truncation=True,\n",
    "            max_length=512,\n",
    "            return_tensors=\"pt\",\n",
    "        )\n",
    "        return {k: v.squeeze(0) for k, v in result.items()}\n",
    "\n",
    "\n",
    "    def forward(self, batch):\n",
    "        # If you want this conditioner to be unconditional, set self.unconditional_prob = 1.0\n",
    "        # If you want this conditioner to be fully conditional, set self.unconditional_prob = 0.0\n",
    "        if self.model.training == True and not self.training_mode:\n",
    "            print(\n",
    "                \"The pretrained CLAP model should always be in eval mode. Reloading model just in case you change the parameters.\"\n",
    "            )\n",
    "            self.model, self.model_cfg = create_model(\n",
    "                self.amodel,\n",
    "                self.tmodel,\n",
    "                self.pretrained,\n",
    "                precision=self.precision,\n",
    "                device=\"cuda\",\n",
    "                enable_fusion=self.enable_fusion,\n",
    "                fusion_type=self.fusion_type,\n",
    "            )\n",
    "            for p in self.model.parameters():\n",
    "                p.requires_grad = False\n",
    "            self.model.eval()\n",
    "\n",
    "        # if self.unconditional_token is None:\n",
    "        #     self.build_unconditional_emb()\n",
    "\n",
    "        # if(self.training_mode):\n",
    "        #     assert self.model.training == True\n",
    "        # else:\n",
    "        #     assert self.model.training == False\n",
    "\n",
    "        # the 'fusion' truncate mode can be changed to 'rand_trunc' if run in unfusion mode\n",
    "        if self.embed_mode == \"audio\":\n",
    "            # if not self.training:\n",
    "            #     print(\"INFO: clap model calculate the audio embedding as condition\")\n",
    "            with torch.no_grad():\n",
    "                # assert (\n",
    "                #     self.sampling_rate == 16000\n",
    "                # ), \"We only support 16000 sampling rate\"\n",
    "\n",
    "                # if self.random_mute:\n",
    "                #     batch = self._random_mute(batch)\n",
    "                # batch: [bs, 1, t-samples]\n",
    "                if self.sampling_rate != 48000:\n",
    "                    batch = torchaudio.functional.resample(\n",
    "                        batch, orig_freq=self.sampling_rate, new_freq=48000\n",
    "                    )\n",
    "\n",
    "                audio_data = batch.squeeze(1)\n",
    "                mel = self.mel_transform(audio_data)\n",
    "                audio_dict = get_audio_features(\n",
    "                    audio_data,\n",
    "                    mel,\n",
    "                    380000,\n",
    "                    data_truncating=\"fusion\",\n",
    "                    data_filling=\"repeatpad\",\n",
    "                    audio_cfg=self.model_cfg[\"audio_cfg\"],\n",
    "                )\n",
    "                \n",
    "                # [bs, 512]\n",
    "                embed = self.model.get_audio_embedding(audio_dict)\n",
    "        elif self.embed_mode == \"text\":\n",
    "            with torch.no_grad():\n",
    "                # the 'fusion' truncate mode can be changed to 'rand_trunc' if run in unfusion mode\n",
    "                text_data = self.tokenizer(batch)\n",
    "\n",
    "                if isinstance(batch, str) or (\n",
    "                    isinstance(batch, list) and len(batch) == 1\n",
    "                ):\n",
    "                    for key in text_data.keys():\n",
    "                        text_data[key] = text_data[key].unsqueeze(0)\n",
    "\n",
    "                embed = self.model.get_text_embedding(text_data)\n",
    "\n",
    "        embed = embed.unsqueeze(1)\n",
    "        # for i in range(embed.size(0)):\n",
    "        #     if self.make_decision(self.unconditional_prob):\n",
    "        #         embed[i] = self.unconditional_token\n",
    "        # embed = torch.randn((batch.size(0), 1, 512)).type_as(batch)\n",
    "        return embed.detach()\n",
    "\n",
    "\n",
    "\n"
   ]
  },
  {
   "cell_type": "code",
   "execution_count": 42,
   "metadata": {},
   "outputs": [
    {
     "name": "stderr",
     "output_type": "stream",
     "text": [
      "/mnt/nvme/node02/pranav/AE24/AudioLDM-training-finetuning/audioldm_train/utilities/audio/stft.py:42: FutureWarning: Pass size=1024 as keyword args. From version 0.10 passing these as positional arguments will result in an error\n",
      "  fft_window = pad_center(fft_window, filter_length)\n",
      "/mnt/nvme/node02/pranav/AE24/AudioLDM-training-finetuning/audioldm_train/utilities/audio/stft.py:145: FutureWarning: Pass sr=16000, n_fft=1024, n_mels=64, fmin=0, fmax=8000 as keyword args. From version 0.10 passing these as positional arguments will result in an error\n",
      "  mel_basis = librosa_mel_fn(\n"
     ]
    }
   ],
   "source": [
    "configs= yaml.load(open(\"/mnt/nvme/node02/pranav/AE24/AudioLDM-training-finetuning/audioldm_train/config/2023_08_23_reproduce_audioldm/audioldm_eeg.yaml\", \"r\"), Loader=yaml.FullLoader)\n",
    "dataset = EEGDataset(configs,split=\"train\")\n",
    "loader = DataLoader(dataset, shuffle=False,batch_size =100)\n",
    "# from audioldm_train.train.load_audio import audioDa\n",
    "# auloader = DataLoader(audioDa, shuffle=False,batch_size =10)\n",
    "# audiodata=next(iter(auloader))"
   ]
  },
  {
   "cell_type": "code",
   "execution_count": 36,
   "metadata": {},
   "outputs": [],
   "source": [
    "import torch\n",
    "# import torch.distributed as dist\n",
    "# from torch.nn.parallel import DistributedDataParallel as DDP\n",
    "# dist.init_process_group(backend='nccl')\n",
    "checkpoint_path=\"/mnt/nvme/node02/pranav/AE24/AudioLDM-training-finetuning/audioldm_train/modules/eeg_encoder/models/eegLatentmodel_test.pth\"\n",
    "checkpoint_path=\"/mnt/nvme/node02/pranav/AE24/starDuck/CAPE/models/eegLatentmodel_Linfonce.pth\"\n",
    "eeg_model= EEG2Latent()\n",
    "eegmodel= torch.load(checkpoint_path,map_location=torch.device('cpu'))\n",
    "eeg_model.load_state_dict(eegmodel)"
   ]
  },
  {
   "cell_type": "code",
   "execution_count": 7,
   "metadata": {},
   "outputs": [
    {
     "name": "stderr",
     "output_type": "stream",
     "text": [
      "/home/pranav/miniconda3/envs/ae24/lib/python3.10/site-packages/torchlibrosa/stft.py:193: FutureWarning: Pass size=1024 as keyword args. From version 0.10 passing these as positional arguments will result in an error\n",
      "  fft_window = librosa.util.pad_center(fft_window, n_fft)\n",
      "/home/pranav/miniconda3/envs/ae24/lib/python3.10/site-packages/torch/functional.py:504: UserWarning: torch.meshgrid: in an upcoming release, it will be required to pass the indexing argument. (Triggered internally at ../aten/src/ATen/native/TensorShape.cpp:3190.)\n",
      "  return _VF.meshgrid(tensors, **kwargs)  # type: ignore[attr-defined]\n",
      "Some weights of the model checkpoint at roberta-base were not used when initializing RobertaModel: ['lm_head.dense.weight', 'lm_head.bias', 'lm_head.dense.bias', 'lm_head.layer_norm.weight', 'lm_head.layer_norm.bias']\n",
      "- This IS expected if you are initializing RobertaModel from the checkpoint of a model trained on another task or with another architecture (e.g. initializing a BertForSequenceClassification model from a BertForPreTraining model).\n",
      "- This IS NOT expected if you are initializing RobertaModel from the checkpoint of a model that you expect to be exactly identical (initializing a BertForSequenceClassification model from a BertForSequenceClassification model).\n",
      "Some weights of RobertaModel were not initialized from the model checkpoint at roberta-base and are newly initialized: ['roberta.pooler.dense.weight', 'roberta.pooler.dense.bias']\n",
      "You should probably TRAIN this model on a down-stream task to be able to use it for predictions and inference.\n",
      "  0%|          | 0/883 [00:00<?, ?it/s]/mnt/nvme/node02/pranav/AE24/starDuck/CAPE/eeg_dataset.py:252: FutureWarning: Pass sr=16000, n_fft=1024, n_mels=64, fmin=0, fmax=8000 as keyword args. From version 0.10 passing these as positional arguments will result in an error\n",
      "  mel = librosa_mel_fn(\n",
      "  0%|          | 0/883 [00:14<?, ?it/s]\n",
      "\n",
      "KeyboardInterrupt\n",
      "\n"
     ]
    }
   ],
   "source": [
    "\n",
    "\n",
    "audio_model = CLAPAudioEmbedding()\n",
    "audio_model.eval()\n",
    "audio_model.embed_mode=\"audio\"\n",
    "eeg_model= EEG2Latent()\n",
    "\n",
    "optimizer = optim.Adam(eeg_model.parameters(), lr=0.001)\n",
    "cosine = nn.CosineSimilarity()\n",
    "\n",
    "from tqdm import tqdm\n",
    "\n",
    "numEpochs=1\n",
    "for epoch in range(numEpochs):\n",
    "    sum_loss=0\n",
    "    for batch in tqdm(loader):\n",
    "        optimizer.zero_grad()\n",
    "        eeglatent = eeg_model(batch[\"eeg\"])\n",
    "        with torch.no_grad():\n",
    "            audiolatent = torch.squeeze(audio_model(batch[\"waveform\"]))\n",
    "\n",
    "        loss = (1- cosine(eeglatent,audiolatent)).mean()\n",
    "        sum_loss+=loss\n",
    "        optimizer.zero_grad()\n",
    "\n",
    "        loss.backward()\n",
    "        optimizer.step()\n",
    "\n",
    "    print(f\"Training loss: {sum_loss/len(loader)} \")\n"
   ]
  },
  {
   "cell_type": "code",
   "execution_count": 41,
   "metadata": {},
   "outputs": [
    {
     "data": {
      "text/plain": [
       "(torch.Size([10, 655, 64]), torch.Size([10, 1, 163750]))"
      ]
     },
     "execution_count": 41,
     "metadata": {},
     "output_type": "execute_result"
    }
   ],
   "source": [
    "audiodata[\"eeg\"].shape,audiodata[\"waveform\"].shape"
   ]
  },
  {
   "cell_type": "code",
   "execution_count": 22,
   "metadata": {},
   "outputs": [
    {
     "ename": "NameError",
     "evalue": "name 'audiolatent' is not defined",
     "output_type": "error",
     "traceback": [
      "\u001b[0;31m---------------------------------------------------------------------------\u001b[0m",
      "\u001b[0;31mNameError\u001b[0m                                 Traceback (most recent call last)",
      "Cell \u001b[0;32mIn[22], line 1\u001b[0m\n\u001b[0;32m----> 1\u001b[0m cosine(\u001b[43maudiolatent\u001b[49m,eeglatent)\n",
      "\u001b[0;31mNameError\u001b[0m: name 'audiolatent' is not defined"
     ]
    }
   ],
   "source": [
    "cosine(audiolatent,eeglatent)"
   ]
  },
  {
   "cell_type": "code",
   "execution_count": 43,
   "metadata": {},
   "outputs": [
    {
     "name": "stderr",
     "output_type": "stream",
     "text": [
      "/mnt/nvme/node02/pranav/AE24/starDuck/CAPE/eeg_dataset.py:252: FutureWarning: Pass sr=16000, n_fft=1024, n_mels=64, fmin=0, fmax=8000 as keyword args. From version 0.10 passing these as positional arguments will result in an error\n",
      "  mel = librosa_mel_fn(\n"
     ]
    }
   ],
   "source": [
    "loader = DataLoader(dataset, shuffle=False,batch_size =10)\n",
    "audiodata = next(iter(loader))\n",
    "ee = eeg_model(audiodata[\"eeg\"])"
   ]
  },
  {
   "cell_type": "code",
   "execution_count": 47,
   "metadata": {},
   "outputs": [
    {
     "data": {
      "text/plain": [
       "7.5"
      ]
     },
     "execution_count": 47,
     "metadata": {},
     "output_type": "execute_result"
    }
   ],
   "source": [
    "30*15/60\n",
    "\n"
   ]
  },
  {
   "cell_type": "code",
   "execution_count": 44,
   "metadata": {},
   "outputs": [
    {
     "data": {
      "text/plain": [
       "torch.Size([10, 512, 64])"
      ]
     },
     "execution_count": 44,
     "metadata": {},
     "output_type": "execute_result"
    }
   ],
   "source": [
    "audiodata[\"eeg\"].shape"
   ]
  },
  {
   "cell_type": "code",
   "execution_count": 17,
   "metadata": {},
   "outputs": [
    {
     "name": "stderr",
     "output_type": "stream",
     "text": [
      "/home/pranav/miniconda3/envs/ae24/lib/python3.10/site-packages/torchlibrosa/stft.py:193: FutureWarning: Pass size=1024 as keyword args. From version 0.10 passing these as positional arguments will result in an error\n",
      "  fft_window = librosa.util.pad_center(fft_window, n_fft)\n",
      "Some weights of the model checkpoint at roberta-base were not used when initializing RobertaModel: ['lm_head.dense.weight', 'lm_head.bias', 'lm_head.dense.bias', 'lm_head.layer_norm.weight', 'lm_head.layer_norm.bias']\n",
      "- This IS expected if you are initializing RobertaModel from the checkpoint of a model trained on another task or with another architecture (e.g. initializing a BertForSequenceClassification model from a BertForPreTraining model).\n",
      "- This IS NOT expected if you are initializing RobertaModel from the checkpoint of a model that you expect to be exactly identical (initializing a BertForSequenceClassification model from a BertForSequenceClassification model).\n",
      "Some weights of RobertaModel were not initialized from the model checkpoint at roberta-base and are newly initialized: ['roberta.pooler.dense.weight', 'roberta.pooler.dense.bias']\n",
      "You should probably TRAIN this model on a down-stream task to be able to use it for predictions and inference.\n"
     ]
    }
   ],
   "source": [
    "audio_model = CLAPAudioEmbedding()\n",
    "audio_model.embed_mode=\"audio\"\n",
    "ae = torch.squeeze(audio_model(audiodata[\"waveform\"]),dim=1)"
   ]
  },
  {
   "cell_type": "code",
   "execution_count": 18,
   "metadata": {},
   "outputs": [
    {
     "data": {
      "text/plain": [
       "(torch.Size([10, 512]), torch.Size([10, 512]))"
      ]
     },
     "execution_count": 18,
     "metadata": {},
     "output_type": "execute_result"
    }
   ],
   "source": [
    "\n",
    "audio_model.embed_mode=\"text\"\n",
    "te = torch.squeeze(audio_model(audiodata[\"text\"]),dim=1)\n",
    "ae.shape,te.shape"
   ]
  },
  {
   "cell_type": "code",
   "execution_count": 20,
   "metadata": {},
   "outputs": [
    {
     "data": {
      "text/plain": [
       "tensor([ 0.1998,  0.2578,  0.2446,  0.2426,  0.1279,  0.0878, -0.0385,  0.0282,\n",
       "         0.1468,  0.1716])"
      ]
     },
     "execution_count": 20,
     "metadata": {},
     "output_type": "execute_result"
    }
   ],
   "source": [
    "cosine = nn.CosineSimilarity()\n",
    "\n",
    "cosine(ae,te)"
   ]
  },
  {
   "cell_type": "code",
   "execution_count": 21,
   "metadata": {},
   "outputs": [
    {
     "data": {
      "image/png": "[encoded data removed]",
      "text/plain": [
       "<Figure size 640x480 with 2 Axes>"
      ]
     },
     "metadata": {},
     "output_type": "display_data"
    }
   ],
   "source": [
    "%matplotlib inline\n",
    "result=ae@te.T\n",
    "import matplotlib.pyplot as plt\n",
    "\n",
    "\n",
    "normalized_result = (result - torch.min(result)) / (torch.max(result) - torch.min(result))\n",
    "\n",
    "# Plotting the result as a color matrix\n",
    "io=result.numpy()\n",
    "io.shape\n",
    "\n",
    "plt.imshow(io,cmap=\"jet\")\n",
    "plt.colorbar()\n",
    "plt.show()"
   ]
  },
  {
   "cell_type": "code",
   "execution_count": null,
   "metadata": {},
   "outputs": [],
   "source": []
  }
 ],
 "metadata": {
  "kernelspec": {
   "display_name": "ae24",
   "language": "python",
   "name": "python3"
  },
  "language_info": {
   "codemirror_mode": {
    "name": "ipython",
    "version": 3
   },
   "file_extension": ".py",
   "mimetype": "text/x-python",
   "name": "python",
   "nbconvert_exporter": "python",
   "pygments_lexer": "ipython3",
   "version": "3.10.13"
  }
 },
 "nbformat": 4,
 "nbformat_minor": 2
}
