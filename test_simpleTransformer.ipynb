{
 "cells": [
  {
   "cell_type": "code",
   "execution_count": 2,
   "metadata": {},
   "outputs": [],
   "source": [
    "\n",
    "%load_ext autoreload\n",
    "%autoreload 2\n",
    "\n",
    "\n",
    "import torch\n",
    "import torch.nn as nn\n",
    "\n",
    "import torch.nn.functional as F\n",
    "from torch import Tensor\n",
    "from torch.nn import Transformer\n",
    "\n",
    "import math\n",
    "import torch\n",
    "import torch.nn as nn\n",
    "import torch.optim as optim\n",
    "import numpy as np\n",
    "\n",
    "from Transformer.model import eeg2melTransformer\n",
    "from torch.utils.data import DataLoader\n",
    "from dataset import meleeg_dataset\n",
    "import torch\n",
    "import time\n",
    "import os\n"
   ]
  },
  {
   "cell_type": "code",
   "execution_count": 3,
   "metadata": {},
   "outputs": [],
   "source": [
    "\n",
    "class eeg2melTransformer(nn.Module):\n",
    "    def __init__(self,\n",
    "                 num_encoder_layers: int,\n",
    "                 num_decoder_layers: int,\n",
    "                 emb_size: int,\n",
    "                 nhead: int,\n",
    "                 src_feature_size: int,\n",
    "                 tgt_feature_size: int,\n",
    "                 dim_feedforward: int = 512,\n",
    "                 dropout: float = 0.1):\n",
    "        super(eeg2melTransformer, self).__init__()\n",
    "        self.transformer = Transformer(d_model=emb_size,\n",
    "                                       nhead=nhead,\n",
    "                                       num_encoder_layers=num_encoder_layers,\n",
    "                                       num_decoder_layers=num_decoder_layers,\n",
    "                                       dim_feedforward=dim_feedforward,\n",
    "                                       dropout=dropout)\n",
    "        self.src_fc = nn.Linear(src_feature_size, emb_size)\n",
    "        self.tgt_fc = nn.Linear(tgt_feature_size, emb_size)\n",
    "        self.generator = nn.Linear(emb_size, tgt_feature_size)\n",
    "        self.positional_encoding = PositionalEncoding(emb_size, dropout=dropout)\n",
    "\n",
    "    def forward(self,\n",
    "                src: Tensor,\n",
    "                trg: Tensor,\n",
    "                src_mask: Tensor,\n",
    "                tgt_mask: Tensor,\n",
    "                src_padding_mask: Tensor,\n",
    "                tgt_padding_mask: Tensor,\n",
    "                memory_key_padding_mask: Tensor):\n",
    "        src_emb = self.positional_encoding(self.src_fc(src))\n",
    "        tgt_emb = self.positional_encoding(self.tgt_fc(trg))\n",
    "        outs = self.transformer(src_emb, tgt_emb, src_mask, tgt_mask, None,\n",
    "                                src_padding_mask, tgt_padding_mask, memory_key_padding_mask)\n",
    "        return self.generator(outs)\n",
    "\n",
    "    def encode(self, src: Tensor, src_mask: Tensor):\n",
    "        return self.transformer.encoder(self.positional_encoding(self.src_fc(src)), src_mask)\n",
    "\n",
    "    def decode(self, tgt: Tensor, memory: Tensor, tgt_mask: Tensor):\n",
    "        return self.transformer.decoder(self.positional_encoding(self.tgt_fc(tgt)), memory, tgt_mask)\n",
    "\n",
    "class PositionalEncoding(nn.Module):\n",
    "    def __init__(self, d_model, dropout=0.1, max_len=5000):\n",
    "        super().__init__()\n",
    "        self.dropout = nn.Dropout(p=dropout)\n",
    "\n",
    "        position = torch.arange(max_len).unsqueeze(1)\n",
    "        div_term = torch.exp(torch.arange(0, d_model, 2) * (-math.log(10000.0) / d_model))\n",
    "        pe = torch.zeros(max_len, 1, d_model)\n",
    "        pe[:, 0, 0::2] = torch.sin(position * div_term)\n",
    "        pe[:, 0, 1::2] = torch.cos(position * div_term)\n",
    "\n",
    "        self.register_buffer('pe', pe)\n",
    "\n",
    "    def forward(self, x):\n",
    "        \"\"\"\n",
    "        Args:\n",
    "            x: Tensor, shape [seq_len, batch_size, embedding_dim]\n",
    "        \"\"\"\n",
    "        x = x + self.pe[:x.size(0)]\n",
    "        return self.dropout(x)\n",
    "\n",
    "\n"
   ]
  },
  {
   "cell_type": "code",
   "execution_count": 6,
   "metadata": {},
   "outputs": [],
   "source": [
    "def save_checkpoint(epoch, model, optimizer, path):\n",
    "    checkpoint = {\n",
    "        'epoch': epoch,\n",
    "        'model_state_dict': model.state_dict(),\n",
    "        'optimizer_state_dict': optimizer.state_dict(),\n",
    "    }\n",
    "    torch.save(checkpoint, path)\n",
    "\n",
    "def load_checkpoint(path, model, optimizer):\n",
    "    if os.path.isfile(path):\n",
    "        checkpoint = torch.load(path)\n",
    "        model.load_state_dict(checkpoint['model_state_dict'])\n",
    "        optimizer.load_state_dict(checkpoint['optimizer_state_dict'])\n",
    "        epoch = checkpoint['epoch']\n",
    "        return epoch\n",
    "    else:\n",
    "        return None\n"
   ]
  },
  {
   "cell_type": "code",
   "execution_count": 7,
   "metadata": {},
   "outputs": [
    {
     "name": "stdout",
     "output_type": "stream",
     "text": [
      "Epoch [1/1] completed in 0.91 seconds, Average Training Loss: 0.0056, Average Validation Loss: -0.3065, Average Validation Metric: 0.3065\n",
      "Training completed.\n"
     ]
    }
   ],
   "source": [
    "from dataset import meleeg_dataset\n",
    "device = torch.device('cuda' if torch.cuda.is_available() else 'cpu')\n",
    "\n",
    "train_dataset = meleeg_dataset()\n",
    "val_dataset = meleeg_dataset(file_types=[\"val\"])\n",
    "test_dataset = meleeg_dataset(file_types=[\"test\"])\n",
    "# DataLoaders\n",
    "batch_size=128\n",
    "train_dataloader = DataLoader(train_dataset, batch_size=batch_size, shuffle=True)\n",
    "valid_dataloader = DataLoader(val_dataset, batch_size=batch_size, shuffle=False)\n",
    "test_dataloader = DataLoader(test_dataset, batch_size=batch_size, shuffle=False)\n",
    "# Model\n",
    "model = eeg2melTransformer(\n",
    "    num_encoder_layers=2,\n",
    "    num_decoder_layers=2,\n",
    "    emb_size=128,\n",
    "    nhead=8,\n",
    "    src_feature_size=64,\n",
    "    tgt_feature_size=10\n",
    ")\n",
    "\n",
    "model =model.to(device)\n",
    "\n",
    "optimizer = torch.optim.Adam(model.parameters(), lr=0.001)\n",
    "num_epochs = 1\n",
    "\n",
    "checkpoint_path = \"model_checkpoint.pth\"\n",
    "\n",
    "# Attempt to load the checkpoint if it exists\n",
    "loaded_epoch = load_checkpoint(checkpoint_path, model, optimizer)\n",
    "\n",
    "# If a checkpoint was loaded, use its epoch and hyperparameters\n",
    "if loaded_epoch is not None:\n",
    "    start_epoch = loaded_epoch + 1\n",
    "    # Update hyperparameters if needed\n",
    "else:\n",
    "    start_epoch = 0\n",
    "max_batches =1\n",
    "\n",
    "for epoch in range(num_epochs):\n",
    "    start_time = time.time()\n",
    "\n",
    "    # Training phase\n",
    "    model.train()\n",
    "    total_train_loss = 0\n",
    "    for batch_idx, (eeg, mel) in enumerate(train_dataloader):\n",
    "        optimizer.zero_grad()\n",
    "        eeg = eeg.to(device)\n",
    "        mel = mel.to(device)\n",
    "        output = model(eeg, mel, None, None, None, None, None)\n",
    "\n",
    "        # Calculate loss and metric\n",
    "        loss = pearson_loss(output, mel)\n",
    "        metric = -pearson_loss(output, mel)\n",
    "        loss.backward()\n",
    "        torch.nn.utils.clip_grad_norm_(model.parameters(), max_norm=1.0)\n",
    "        optimizer.step()\n",
    "        total_train_loss += loss.item()\n",
    "\n",
    "        if (batch_idx + 1) % 100 == 0:\n",
    "            metric = -pearson_loss(output, mel)\n",
    "            print(f\"Epoch [{epoch + 1}/{num_epochs}], Batch {batch_idx + 1}, Training Loss: {loss.item()}, Metric:{metric.item()}\")\n",
    "            save_checkpoint(epoch, model, optimizer, hyperparameters, checkpoint_path)\n",
    "\n",
    "        if batch_idx >= max_batches - 1:\n",
    "            break\n",
    "    num_batches_processed = min(max_batches, len(train_dataloader))\n",
    "    avg_train_loss = total_train_loss / num_batches_processed\n",
    "\n",
    "\n",
    "    # Validation phase\n",
    "    model.eval()\n",
    "    total_val_loss = 0\n",
    "    total_val_metric = 0\n",
    "    with torch.no_grad():\n",
    "        for batch_idx,(eeg, mel) in enumerate(valid_dataloader):\n",
    "            eeg = eeg.to(device)\n",
    "            mel = mel.to(device)\n",
    "            output = model(eeg, mel, None, None, None, None, None)\n",
    "\n",
    "            output_flat = output.view(output.size(0), -1)\n",
    "            mel_flat = mel.view(mel.size(0), -1)\n",
    "\n",
    "                # Calculate loss and metric\n",
    "            loss = pearson_loss(output, mel)\n",
    "            metric = -pearson_loss(output, mel)\n",
    "            total_val_loss += loss.item()\n",
    "            total_val_metric += metric.item()\n",
    "\n",
    "            if batch_idx >= max_batches - 1:\n",
    "                break\n",
    "\n",
    "    num_batches_processed_val = min(max_batches, len(valid_dataloader))\n",
    "    avg_val_loss = total_val_loss / num_batches_processed_val\n",
    "    avg_val_metric = total_val_metric / num_batches_processed_val\n",
    "\n",
    "    print(f\"Epoch [{epoch + 1}/{num_epochs}] completed in {time.time() - start_time:.2f} seconds, \"\n",
    "          f\"Average Training Loss: {avg_train_loss:.4f}, Average Validation Loss: {avg_val_loss:.4f}, \"\n",
    "          f\"Average Validation Metric: {avg_val_metric:.4f}\")\n",
    "\n",
    "print(\"Training completed.\")\n",
    "\n",
    "\n",
    "\n",
    "\n"
   ]
  },
  {
   "cell_type": "code",
   "execution_count": 8,
   "metadata": {},
   "outputs": [],
   "source": [
    "e,m = train_dataset.__getitem__(0)"
   ]
  },
  {
   "cell_type": "code",
   "execution_count": 13,
   "metadata": {},
   "outputs": [
    {
     "data": {
      "text/plain": [
       "torch.Size([1, 64, 128])"
      ]
     },
     "execution_count": 13,
     "metadata": {},
     "output_type": "execute_result"
    }
   ],
   "source": [
    "tri=model.encode(e[None,:,:],None)\n",
    "tri.shape"
   ]
  },
  {
   "cell_type": "code",
   "execution_count": null,
   "metadata": {},
   "outputs": [],
   "source": []
  },
  {
   "cell_type": "code",
   "execution_count": null,
   "metadata": {},
   "outputs": [],
   "source": []
  },
  {
   "cell_type": "code",
   "execution_count": 5,
   "metadata": {},
   "outputs": [],
   "source": [
    "\n",
    "\n",
    "\n",
    "def pearson_non_mean(y_true, y_pred, axis=1):\n",
    "    \"\"\"\n",
    "    Pearson correlation function implemented in PyTorch.\n",
    "    \"\"\"\n",
    "    y_true_mean = y_true.mean(dim=axis, keepdim=True)\n",
    "    y_pred_mean = y_pred.mean(dim=axis, keepdim=True)\n",
    "\n",
    "    numerator = ((y_true - y_true_mean) * (y_pred - y_pred_mean)).sum(dim=axis, keepdim=True)\n",
    "    std_true = ((y_true - y_true_mean) ** 2).sum(dim=axis, keepdim=True)\n",
    "    std_pred = ((y_pred - y_pred_mean) ** 2).sum(dim=axis, keepdim=True)\n",
    "    denominator = torch.sqrt(std_true * std_pred +1e-8)\n",
    "\n",
    "    c = torch.zeros_like(numerator)\n",
    "    # zero mask\n",
    "    mask = (denominator != 0)\n",
    "\n",
    "    # finally perform division\n",
    "    c[mask] = numerator[mask] / denominator[mask]\n",
    "    # PyTorch equivalent\n",
    "    return  c\n",
    "\n",
    "\n",
    "\n",
    "def pearson_correlation(y_true, y_pred, axis=1):\n",
    "    \"\"\"\n",
    "    Pearson correlation function implemented in PyTorch.\n",
    "    \"\"\"\n",
    "    y_true_mean = y_true.mean(dim=axis, keepdim=True)\n",
    "    y_pred_mean = y_pred.mean(dim=axis, keepdim=True)\n",
    "\n",
    "    numerator = ((y_true - y_true_mean) * (y_pred - y_pred_mean)).sum(dim=axis, keepdim=True)\n",
    "    std_true = ((y_true - y_true_mean) ** 2).sum(dim=axis, keepdim=True)\n",
    "    std_pred = ((y_pred - y_pred_mean) ** 2).sum(dim=axis, keepdim=True)\n",
    "    denominator = torch.sqrt(std_true * std_pred + 1e-8)\n",
    "\n",
    "    c = torch.zeros_like(numerator)\n",
    "    # zero mask\n",
    "    mask = (denominator != 0)\n",
    "\n",
    "    # finally perform division\n",
    "    c[mask] = numerator[mask] / denominator[mask]\n",
    "    # PyTorch equivalent\n",
    "    return  torch.mean(c)\n",
    "\n",
    "\n",
    "\n",
    "def pearson_loss(y_true, y_pred, axis=1):\n",
    "    \"\"\"\n",
    "    Pearson loss function in PyTorch, modified to return a scalar.\n",
    "    \"\"\"\n",
    "\n",
    "\n",
    "    return -pearson_correlation(y_true, y_pred, axis=axis)\n",
    "\n",
    "\n",
    "def pearson_metric(y_true, y_pred, axis=1):\n",
    "    \"\"\"\n",
    "    Pearson metric function in PyTorch.\n",
    "    \"\"\"\n",
    "    corr = pearson_correlation(y_true, y_pred, axis=axis)\n",
    "    return corr.mean(dim=-1)\n",
    "\n",
    "\n",
    "\n",
    "def evaluate_model(model, test_loaders, criterion, device):\n",
    "    \"\"\"Evaluate a model in PyTorch.\n",
    "\n",
    "    Parameters\n",
    "    ----------\n",
    "    model: torch.nn.Module\n",
    "        PyTorch model to evaluate.\n",
    "    test_loaders: dict\n",
    "        Mapping between a subject and a DataLoader containing the test set for the subject.\n",
    "    criterion: loss function\n",
    "        The loss function used for evaluation.\n",
    "    device: torch.device\n",
    "        Device to run the model on.\n",
    "\n",
    "    Returns\n",
    "    -------\n",
    "    dict\n",
    "        Mapping between a subject and the loss/evaluation score on the test set.\n",
    "    \"\"\"\n",
    "\n",
    "# pearson acroos time\n",
    "# mean across bands/features\n",
    "# mean across samples per subjects\n",
    "# mean across subjects \n",
    "    model.eval()\n",
    "    evaluation = {}\n",
    "    pmean=[]\n",
    "    for subi,(subject, loader) in enumerate(test_loaders.items()):\n",
    "        total_loss = 0\n",
    "        all_labels = []\n",
    "        all_predictions = []\n",
    "        i=0\n",
    "        with torch.no_grad():\n",
    "            for eeg, mel_true in loader:\n",
    "                eeg, mel_true = eeg.to(device), mel_true.to(device)\n",
    "                outputs = model(eeg, mel_true, None, None, None, None, None)\n",
    "                loss = criterion(outputs, mel_true)\n",
    "                total_loss += loss.item()\n",
    "                all_labels.append(mel_true)\n",
    "                all_predictions.append(outputs)\n",
    "                i+=1\n",
    "                if i>2:\n",
    "                    break\n",
    "                \n",
    "        # Concatenate all batches\n",
    "        all_labels = torch.cat(all_labels, dim=0)\n",
    "        all_predictions = torch.cat(all_predictions, dim=0)\n",
    "        print(all_labels.shape)\n",
    "        k=np.squeeze(pearson_non_mean(all_predictions,all_labels,axis=1))\n",
    "        print(k.shape)\n",
    "        # Calculate Pearson correlation\n",
    "        band_correlations = k.mean(dim=0)\n",
    "        pmean.append(k.mean())\n",
    "        avg_loss = total_loss / len(loader)\n",
    "        evaluation[subject] = {\n",
    "            \"loss\": avg_loss,\n",
    "            \"pearson_correlation_per_band\": band_correlations,\n",
    "            \"pMetric\":pmean[-1]\n",
    "        }\n",
    "\n",
    "    return evaluation,pmean.mean()"
   ]
  },
  {
   "cell_type": "code",
   "execution_count": null,
   "metadata": {},
   "outputs": [],
   "source": []
  },
  {
   "cell_type": "code",
   "execution_count": 30,
   "metadata": {},
   "outputs": [
    {
     "data": {
      "text/plain": [
       "(torch.Size([1, 64, 64]), torch.Size([64, 10]))"
      ]
     },
     "execution_count": 30,
     "metadata": {},
     "output_type": "execute_result"
    }
   ],
   "source": [
    "e,m=test_dataset.__getitem__(0)\n",
    "e[None,:,:].shape,m.shape"
   ]
  },
  {
   "cell_type": "code",
   "execution_count": null,
   "metadata": {},
   "outputs": [],
   "source": []
  },
  {
   "cell_type": "code",
   "execution_count": 35,
   "metadata": {},
   "outputs": [
    {
     "ename": "TypeError",
     "evalue": "eeg2melTransformer.forward() missing 6 required positional arguments: 'trg', 'src_mask', 'tgt_mask', 'src_padding_mask', 'tgt_padding_mask', and 'memory_key_padding_mask'",
     "output_type": "error",
     "traceback": [
      "\u001b[0;31m---------------------------------------------------------------------------\u001b[0m",
      "\u001b[0;31mTypeError\u001b[0m                                 Traceback (most recent call last)",
      "\u001b[1;32m/mnt/nvme/node02/pranav/AE24/starDuck/test_simpleTransformer.ipynb Cell 14\u001b[0m line \u001b[0;36m2\n\u001b[1;32m     <a href='vscode-notebook-cell://ssh-remote%2Bnode02/mnt/nvme/node02/pranav/AE24/starDuck/test_simpleTransformer.ipynb#X22sdnNjb2RlLXJlbW90ZQ%3D%3D?line=17'>18</a>\u001b[0m loaded_epoch \u001b[39m=\u001b[39m load_checkpoint(checkpoint_path, model, optimizer)\n\u001b[1;32m     <a href='vscode-notebook-cell://ssh-remote%2Bnode02/mnt/nvme/node02/pranav/AE24/starDuck/test_simpleTransformer.ipynb#X22sdnNjb2RlLXJlbW90ZQ%3D%3D?line=19'>20</a>\u001b[0m model\u001b[39m.\u001b[39meval()\n\u001b[0;32m---> <a href='vscode-notebook-cell://ssh-remote%2Bnode02/mnt/nvme/node02/pranav/AE24/starDuck/test_simpleTransformer.ipynb#X22sdnNjb2RlLXJlbW90ZQ%3D%3D?line=20'>21</a>\u001b[0m outputs \u001b[39m=\u001b[39m model(e[\u001b[39mNone\u001b[39;49;00m,:,:])\n",
      "File \u001b[0;32m~/miniconda3/envs/ae24/lib/python3.10/site-packages/torch/nn/modules/module.py:1194\u001b[0m, in \u001b[0;36mModule._call_impl\u001b[0;34m(self, *input, **kwargs)\u001b[0m\n\u001b[1;32m   1190\u001b[0m \u001b[39m# If we don't have any hooks, we want to skip the rest of the logic in\u001b[39;00m\n\u001b[1;32m   1191\u001b[0m \u001b[39m# this function, and just call forward.\u001b[39;00m\n\u001b[1;32m   1192\u001b[0m \u001b[39mif\u001b[39;00m \u001b[39mnot\u001b[39;00m (\u001b[39mself\u001b[39m\u001b[39m.\u001b[39m_backward_hooks \u001b[39mor\u001b[39;00m \u001b[39mself\u001b[39m\u001b[39m.\u001b[39m_forward_hooks \u001b[39mor\u001b[39;00m \u001b[39mself\u001b[39m\u001b[39m.\u001b[39m_forward_pre_hooks \u001b[39mor\u001b[39;00m _global_backward_hooks\n\u001b[1;32m   1193\u001b[0m         \u001b[39mor\u001b[39;00m _global_forward_hooks \u001b[39mor\u001b[39;00m _global_forward_pre_hooks):\n\u001b[0;32m-> 1194\u001b[0m     \u001b[39mreturn\u001b[39;00m forward_call(\u001b[39m*\u001b[39;49m\u001b[39minput\u001b[39;49m, \u001b[39m*\u001b[39;49m\u001b[39m*\u001b[39;49mkwargs)\n\u001b[1;32m   1195\u001b[0m \u001b[39m# Do not call functions when jit is used\u001b[39;00m\n\u001b[1;32m   1196\u001b[0m full_backward_hooks, non_full_backward_hooks \u001b[39m=\u001b[39m [], []\n",
      "\u001b[0;31mTypeError\u001b[0m: eeg2melTransformer.forward() missing 6 required positional arguments: 'trg', 'src_mask', 'tgt_mask', 'src_padding_mask', 'tgt_padding_mask', and 'memory_key_padding_mask'"
     ]
    }
   ],
   "source": [
    "model = eeg2melTransformer(\n",
    "    num_encoder_layers=2,\n",
    "    num_decoder_layers=2,\n",
    "    emb_size=128,\n",
    "    nhead=8,\n",
    "    src_feature_size=64,\n",
    "    tgt_feature_size=10\n",
    ")\n",
    "\n",
    "model =model.to(device)\n",
    "\n",
    "optimizer = torch.optim.Adam(model.parameters(), lr=0.001)\n",
    "num_epochs = 1\n",
    "\n",
    "checkpoint_path = \"model_checkpoint.pth\"\n",
    "\n",
    "# Attempt to load the checkpoint if it exists\n",
    "loaded_epoch = load_checkpoint(checkpoint_path, model, optimizer)\n",
    "\n",
    "model.eval()\n",
    "outputs = model(e[None,:,:])"
   ]
  },
  {
   "cell_type": "code",
   "execution_count": null,
   "metadata": {},
   "outputs": [],
   "source": []
  },
  {
   "cell_type": "code",
   "execution_count": 1,
   "metadata": {},
   "outputs": [
    {
     "ename": "NameError",
     "evalue": "name 'model' is not defined",
     "output_type": "error",
     "traceback": [
      "\u001b[0;31m---------------------------------------------------------------------------\u001b[0m",
      "\u001b[0;31mNameError\u001b[0m                                 Traceback (most recent call last)",
      "\u001b[1;32m/mnt/nvme/node02/pranav/AE24/starDuck/test_simpleTransformer.ipynb Cell 16\u001b[0m line \u001b[0;36m1\n\u001b[0;32m----> <a href='vscode-notebook-cell://ssh-remote%2Bnode02/mnt/nvme/node02/pranav/AE24/starDuck/test_simpleTransformer.ipynb#X21sdnNjb2RlLXJlbW90ZQ%3D%3D?line=0'>1</a>\u001b[0m model\u001b[39m.\u001b[39mencode(e)\n",
      "\u001b[0;31mNameError\u001b[0m: name 'model' is not defined"
     ]
    }
   ],
   "source": [
    "model.encode(e)"
   ]
  },
  {
   "cell_type": "code",
   "execution_count": 34,
   "metadata": {},
   "outputs": [
    {
     "data": {
      "text/plain": [
       "torch.Size([1, 64, 10])"
      ]
     },
     "execution_count": 34,
     "metadata": {},
     "output_type": "execute_result"
    }
   ],
   "source": [
    "outputs.shape"
   ]
  },
  {
   "cell_type": "code",
   "execution_count": null,
   "metadata": {},
   "outputs": [],
   "source": [
    "plt.plot(outputs[])"
   ]
  },
  {
   "cell_type": "code",
   "execution_count": null,
   "metadata": {},
   "outputs": [],
   "source": []
  },
  {
   "cell_type": "code",
   "execution_count": 17,
   "metadata": {},
   "outputs": [
    {
     "data": {
      "image/png": "[encoded data removed]",
      "text/plain": [
       "<Figure size 1000x400 with 2 Axes>"
      ]
     },
     "metadata": {},
     "output_type": "display_data"
    },
    {
     "data": {
      "image/png": "[encoded data removed]",
      "text/plain": [
       "<Figure size 1000x400 with 2 Axes>"
      ]
     },
     "metadata": {},
     "output_type": "display_data"
    }
   ],
   "source": [
    "import matplotlib.pyplot as plt\n",
    "\n",
    "def plot_tensor(tensor, title):\n",
    "    plt.figure(figsize=(10, 4))\n",
    "    plt.imshow(tensor, aspect='auto')\n",
    "    plt.colorbar()\n",
    "    plt.title(title)\n",
    "    plt.xlabel('Features')\n",
    "    plt.ylabel('Time')\n",
    "    plt.show()\n",
    "\n",
    "# Assuming e and m are your EEG and Mel tensors respectively\n",
    "plot_tensor(e, 'EEG Data')\n",
    "plot_tensor(m.T, 'Mel Spectrogram Data')\n"
   ]
  },
  {
   "cell_type": "code",
   "execution_count": 12,
   "metadata": {},
   "outputs": [
    {
     "name": "stdout",
     "output_type": "stream",
     "text": [
      "sub-004 730\n",
      "sub-045 1198\n",
      "sub-082 1238\n",
      "sub-054 1199\n",
      "sub-081 574\n",
      "sub-046 1198\n",
      "sub-024 1840\n",
      "sub-077 670\n",
      "sub-065 1420\n",
      "sub-055 1199\n",
      "sub-019 1840\n",
      "sub-001 1840\n",
      "sub-035 1511\n",
      "sub-018 1840\n",
      "sub-058 1357\n",
      "sub-084 1238\n",
      "sub-010 1840\n",
      "sub-041 1363\n",
      "sub-049 1199\n",
      "sub-052 1199\n",
      "sub-008 1840\n",
      "sub-028 1446\n",
      "sub-037 1363\n",
      "sub-043 1198\n",
      "sub-029 1446\n",
      "sub-080 1238\n",
      "sub-030 1446\n",
      "sub-068 1420\n",
      "sub-026 1840\n",
      "sub-002 1902\n",
      "sub-063 1420\n",
      "sub-085 1238\n",
      "sub-005 1668\n",
      "sub-022 1826\n",
      "sub-075 1218\n",
      "sub-064 1420\n",
      "sub-062 1357\n",
      "sub-066 1420\n",
      "sub-042 1363\n",
      "sub-021 1826\n",
      "sub-034 1511\n",
      "sub-016 1840\n",
      "sub-072 1218\n",
      "sub-006 1648\n",
      "sub-015 1840\n",
      "sub-007 1840\n",
      "sub-032 1511\n",
      "sub-038 1363\n",
      "sub-023 1826\n",
      "sub-067 1420\n",
      "sub-057 1357\n",
      "sub-013 1840\n",
      "sub-012 1840\n",
      "sub-036 1511\n",
      "sub-083 1238\n",
      "sub-076 1218\n",
      "sub-025 1668\n",
      "sub-070 1420\n",
      "sub-069 1420\n",
      "sub-061 1357\n",
      "sub-003 1840\n",
      "sub-040 1363\n",
      "sub-044 1198\n",
      "sub-017 712\n",
      "sub-014 1826\n",
      "sub-047 1307\n",
      "sub-048 1063\n",
      "sub-071 1420\n",
      "sub-009 1840\n",
      "sub-050 669\n",
      "sub-031 1446\n",
      "sub-056 1199\n",
      "sub-074 1218\n",
      "sub-059 1357\n",
      "sub-060 1172\n",
      "sub-033 1511\n",
      "sub-078 1218\n",
      "sub-051 1199\n",
      "sub-053 1199\n",
      "sub-073 1218\n",
      "sub-027 1446\n",
      "sub-039 1363\n",
      "sub-020 1470\n",
      "sub-079 1238\n",
      "sub-011 1840\n"
     ]
    }
   ],
   "source": [
    "from dataset import meleeg_dataset\n",
    "# # Test loop\n",
    "# model.eval()\n",
    "# total_test_loss = 0\n",
    "# with torch.no_grad():\n",
    "#     for eeg, mel in test_dataloader:\n",
    "#         output = model(eeg, mel, None, None, None, None, None)\n",
    "#         loss = pearson_loss(mel, output)\n",
    "#         total_test_loss += loss.item()\n",
    "\n",
    "# avg_test_loss = total_test_loss / len(test_dataloader)\n",
    "# print(f\"Average Test Loss: {avg_test_loss:.4f}\")\n",
    "\n",
    "test_files=[k  for k in os.listdir(\"/mnt/nvme/node02/pranav/AE24/data/split_data/\") if \"test\" in k]\n",
    "subjects = list(set([os.path.basename(x).split(\"_-_\")[1] for x in test_files]))\n",
    "\n",
    "test_dataset = meleeg_dataset(file_types=[\"test\"])\n",
    "\n",
    "test_dataloader = DataLoader(test_dataset, batch_size=batch_size, shuffle=False)\n",
    "\n",
    "\n",
    "datasets_test = {}\n",
    "# Create a generator for each subject\n",
    "for sub in subjects:\n",
    "\n",
    "    test_sub_datset = meleeg_dataset(file_types=[\"test\",sub])\n",
    "    datasets_test[sub] = DataLoader(test_sub_datset, batch_size=batch_size, shuffle=False)\n",
    "    print(sub,len(test_sub_datset))\n",
    "#     break\n",
    "\n",
    "\n",
    "# evaluation = evaluate_model(model, datasets_test,pearson_loss,device)\n",
    "\n"
   ]
  },
  {
   "cell_type": "code",
   "execution_count": 57,
   "metadata": {},
   "outputs": [
    {
     "data": {
      "text/plain": [
       "384"
      ]
     },
     "execution_count": 57,
     "metadata": {},
     "output_type": "execute_result"
    }
   ],
   "source": [
    "len(evaluation['sub-008']['pMetric'])"
   ]
  },
  {
   "cell_type": "code",
   "execution_count": 59,
   "metadata": {},
   "outputs": [],
   "source": [
    "casp=evaluation['sub-008']['pMetric']"
   ]
  },
  {
   "cell_type": "code",
   "execution_count": 73,
   "metadata": {},
   "outputs": [
    {
     "data": {
      "text/plain": [
       "tensor(False)"
      ]
     },
     "execution_count": 73,
     "metadata": {},
     "output_type": "execute_result"
    }
   ],
   "source": [
    "casp.mean(dim=1).mean(dim=0)==casp.mean(dim=(0,1))"
   ]
  },
  {
   "cell_type": "code",
   "execution_count": null,
   "metadata": {},
   "outputs": [],
   "source": [
    "# We can save our results in a json encoded file\n",
    "results_path = os.path.join(results_folder, results_filename)\n",
    "with open(results_path, \"w\") as fp:\n",
    "    json.dump(evaluation, fp)\n",
    "logging.info(f\"Results saved at {results_path}\")"
   ]
  }
 ],
 "metadata": {
  "kernelspec": {
   "display_name": "Python 3 (ipykernel)",
   "language": "python",
   "name": "python3"
  },
  "language_info": {
   "codemirror_mode": {
    "name": "ipython",
    "version": 3
   },
   "file_extension": ".py",
   "mimetype": "text/x-python",
   "name": "python",
   "nbconvert_exporter": "python",
   "pygments_lexer": "ipython3",
   "version": "3.10.13"
  }
 },
 "nbformat": 4,
 "nbformat_minor": 2
}
