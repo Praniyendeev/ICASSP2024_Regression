{
 "cells": [
  {
   "cell_type": "code",
   "execution_count": 1,
   "metadata": {},
   "outputs": [],
   "source": [
    "import torch\n",
    "from torch.utils.data import Dataset\n",
    "import torchvision.transforms as transforms\n",
    "\n",
    "\n",
    "\n",
    "import numpy as np\n",
    "import os\n",
    "path='/mnt/nvme/node02/pranav/AE24/data/split_data'"
   ]
  },
  {
   "cell_type": "code",
   "execution_count": 2,
   "metadata": {},
   "outputs": [
    {
     "data": {
      "text/plain": [
       "666"
      ]
     },
     "execution_count": 2,
     "metadata": {},
     "output_type": "execute_result"
    }
   ],
   "source": [
    "eeg_file_paths = [os.path.join(path,file) for  file in os.listdir(path) if \"eeg\" in file and \"train\" in file]\n",
    "len(eeg_file_paths)\n"
   ]
  },
  {
   "cell_type": "code",
   "execution_count": null,
   "metadata": {},
   "outputs": [],
   "source": [
    "np.memmap(efp,)"
   ]
  },
  {
   "cell_type": "code",
   "execution_count": 19,
   "metadata": {},
   "outputs": [],
   "source": [
    "awwe=np.load(efp)"
   ]
  },
  {
   "cell_type": "code",
   "execution_count": 20,
   "metadata": {},
   "outputs": [],
   "source": [
    "data=awwe[:128,:]"
   ]
  },
  {
   "cell_type": "code",
   "execution_count": 27,
   "metadata": {},
   "outputs": [],
   "source": [
    "num_samples=128\n",
    "frame_length=64\n",
    "hop_length =32\n",
    "num_frames =1 + (num_samples - frame_length) // hop_length\n",
    "\n",
    "\n"
   ]
  },
  {
   "cell_type": "code",
   "execution_count": 28,
   "metadata": {},
   "outputs": [
    {
     "name": "stdout",
     "output_type": "stream",
     "text": [
      "[0, 64]\n",
      "[32, 96]\n",
      "[64, 128]\n"
     ]
    },
    {
     "data": {
      "text/plain": [
       "[None, None, None]"
      ]
     },
     "execution_count": 28,
     "metadata": {},
     "output_type": "execute_result"
    }
   ],
   "source": [
    "[print([start,start + frame_length] )for start in range(0, len(data) - frame_length + 1, hop_length)]"
   ]
  },
  {
   "cell_type": "code",
   "execution_count": 14,
   "metadata": {},
   "outputs": [],
   "source": [
    "class maeeg_dataset(Dataset):\n",
    "    def __init__(self, path='/mnt/nvme/node02/pranav/AE24/data/split_data', type=\"train\",frame_length=64,hop_length=30,):\n",
    "        \n",
    "        super(maeeg_dataset, self).__init__()\n",
    "        self.frame_length=frame_length\n",
    "        self.hop_length=hop_length\n",
    "\n",
    "        self.input_paths = [os.path.join(path,file) for  file in os.listdir(path) if \"eeg\" in file and type in file]\n",
    "        assert len(self.input_paths) != 0, 'No data found'\n",
    "\n",
    "\n",
    "        self.index_map = {}\n",
    "        global_index = 0\n",
    "        for file_name in self.input_paths:\n",
    "            data_shape = np.load(file_name, mmap_mode='r').shape\n",
    "            num_samples = data_shape[0] \n",
    "\n",
    "            num_windows = 1 + (num_samples - self.frame_length) // self.hop_length\n",
    "\n",
    "            for window_offset in range(num_windows):\n",
    "                self.index_map[global_index] = (file_name, window_offset)\n",
    "                global_index += 1\n",
    "        \n",
    "\n",
    "\n",
    "    def __len__(self):\n",
    "        return len(self.index_map)\n",
    "    \n",
    "    def __getitem__(self,idx):\n",
    "        file_name, window_offset=self.index_map[idx]\n",
    "        start=window_offset*self.hop_length\n",
    "        end=start+self.frame_length\n",
    "        sample=np.load(file_name,mmap_mode='r')[start:end]\n",
    "\n",
    "        return torch.from_numpy(sample.copy())\n",
    "\n",
    "\n"
   ]
  },
  {
   "cell_type": "code",
   "execution_count": 16,
   "metadata": {},
   "outputs": [
    {
     "data": {
      "text/plain": [
       "torch.Size([64, 64])"
      ]
     },
     "execution_count": 16,
     "metadata": {},
     "output_type": "execute_result"
    }
   ],
   "source": [
    "md=maeeg_dataset()\n",
    "md.__getitem__(14).shape"
   ]
  },
  {
   "cell_type": "code",
   "execution_count": 20,
   "metadata": {},
   "outputs": [],
   "source": [
    "\n",
    "# DataLoader's batch_size should be 1\n",
    "data_loader = torch.utils.data.DataLoader(md, batch_size=2400)\n"
   ]
  }
 ],
 "metadata": {
  "kernelspec": {
   "display_name": "ae24",
   "language": "python",
   "name": "python3"
  },
  "language_info": {
   "codemirror_mode": {
    "name": "ipython",
    "version": 3
   },
   "file_extension": ".py",
   "mimetype": "text/x-python",
   "name": "python",
   "nbconvert_exporter": "python",
   "pygments_lexer": "ipython3",
   "version": "3.10.13"
  }
 },
 "nbformat": 4,
 "nbformat_minor": 2
}
